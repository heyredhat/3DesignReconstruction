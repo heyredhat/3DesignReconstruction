{
 "cells": [
  {
   "cell_type": "code",
   "execution_count": 1,
   "metadata": {},
   "outputs": [],
   "source": [
    "from vibes import *"
   ]
  },
  {
   "cell_type": "code",
   "execution_count": 261,
   "metadata": {},
   "outputs": [
    {
     "name": "stdout",
     "output_type": "stream",
     "text": [
      "         Current function value: 0.000000\n",
      "         Iterations: 124\n",
      "         Function evaluations: 182\n",
      "         Gradient evaluations: 177\n"
     ]
    },
    {
     "name": "stderr",
     "output_type": "stream",
     "text": [
      "/Users/heyredhat/opt/anaconda3/envs/spring2025/lib/python3.12/site-packages/scipy/optimize/_minimize.py:733: OptimizeWarning: Desired error not necessarily achieved due to precision loss.\n",
      "  res = _minimize_bfgs(fun, x0, args, jac, callback, **options)\n"
     ]
    },
    {
     "data": {
      "text/plain": [
       "array([[0.5 , 0.25, 0.25, 0.  ],\n",
       "       [0.25, 0.5 , 0.  , 0.25],\n",
       "       [0.25, 0.  , 0.5 , 0.25],\n",
       "       [0.  , 0.25, 0.25, 0.5 ]])"
      ]
     },
     "execution_count": 261,
     "metadata": {},
     "output_type": "execute_result"
    }
   ],
   "source": [
    "P = construct_P(4, 3, 2); P"
   ]
  },
  {
   "cell_type": "code",
   "execution_count": 262,
   "metadata": {},
   "outputs": [],
   "source": [
    "P_data = extract_P_data(P)\n",
    "n, alpha, beta, Phi = P_data[\"n\"], P_data[\"alpha\"], P_data[\"beta\"], P_data[\"Phi\"]\n",
    "eta = -beta/(alpha+1)\n",
    "A = np.array([[[eta*(delta(i,j) - delta(i,k) - delta(j,k)) for k in range(n)] for j in range(n)] for i in range(n)])\n",
    "V = np.array([[[delta(i,j)*delta(i,k) for k in range(n)] for j in range(n)] for i in range(n)])"
   ]
  },
  {
   "cell_type": "code",
   "execution_count": 268,
   "metadata": {},
   "outputs": [
    {
     "name": "stdout",
     "output_type": "stream",
     "text": [
      "Inequality constraints incompatible    (Exit mode 4)\n",
      "            Current function value: 1.97223636870937e-11\n",
      "            Iterations: 47\n",
      "            Function evaluations: 145\n",
      "            Gradient evaluations: 47\n"
     ]
    },
    {
     "data": {
      "text/plain": [
       "Array([0.231, 0.499, 0.001, 0.269], dtype=float64)"
      ]
     },
     "execution_count": 268,
     "metadata": {},
     "output_type": "execute_result"
    }
   ],
   "source": [
    "@jax.jit\n",
    "def obj(X):\n",
    "    p = X + 1/n\n",
    "    p = p/jp.sum(p)\n",
    "    C = P @ Phi @ jp.einsum(\"ijk, k\", V-A, p) @ P @ Phi\n",
    "    p2 = C @ Phi @ p\n",
    "    p2 = p2/jp.sum(p2)\n",
    "    return jp.linalg.norm(p - p2) \n",
    "\n",
    "@jax.jit\n",
    "def obj2(X):\n",
    "    p = X + 1/n\n",
    "    p = p/jp.sum(p)\n",
    "    C = P @ Phi @ jp.einsum(\"ijk, k\", V-A, p) @ P @ Phi\n",
    "    return jp.linalg.eigvals(C).real\n",
    "\n",
    "result = sc.optimize.minimize(obj, np.random.randn(n),\\\n",
    "                                jac=jax.jit(jax.jacrev(obj)),\\\n",
    "                                constraints=[{\"type\": \"ineq\", \"fun\": obj2, \"jac\":jax.jit(jax.jacrev(obj2))}],\\\n",
    "                                tol=1e-16, options={\"disp\": True, \"maxiter\": 10000})\n",
    "p = result.x + 1/n\n",
    "p = p/jp.sum(p)\n",
    "p"
   ]
  },
  {
   "cell_type": "code",
   "execution_count": 269,
   "metadata": {},
   "outputs": [
    {
     "data": {
      "text/plain": [
       "Array([[ 0.154,  0.16 , -0.006, -0.   ],\n",
       "       [ 0.16 ,  0.333,  0.   ,  0.173],\n",
       "       [-0.006,  0.   ,  0.   ,  0.007],\n",
       "       [-0.   ,  0.173,  0.007,  0.179]], dtype=float64)"
      ]
     },
     "execution_count": 269,
     "metadata": {},
     "output_type": "execute_result"
    }
   ],
   "source": [
    "C = C_constructor(P, A=A)\n",
    "Cp = C(p); Cp"
   ]
  },
  {
   "cell_type": "code",
   "execution_count": 270,
   "metadata": {},
   "outputs": [
    {
     "data": {
      "text/plain": [
       "Array(0., dtype=float64)"
      ]
     },
     "execution_count": 270,
     "metadata": {},
     "output_type": "execute_result"
    }
   ],
   "source": [
    "p2 = (Cp @ Phi @ p)\n",
    "p2_ = p2/jp.sum(p2)\n",
    "jp.linalg.norm(p - p2_) "
   ]
  },
  {
   "cell_type": "code",
   "execution_count": 271,
   "metadata": {},
   "outputs": [
    {
     "data": {
      "text/plain": [
       "array([ 0.667,  0.333, -0.   , -0.   ])"
      ]
     },
     "execution_count": 271,
     "metadata": {},
     "output_type": "execute_result"
    }
   ],
   "source": [
    "np.linalg.eigvals(Cp @ Phi)"
   ]
  }
 ],
 "metadata": {
  "kernelspec": {
   "display_name": "spring2025",
   "language": "python",
   "name": "python3"
  },
  "language_info": {
   "codemirror_mode": {
    "name": "ipython",
    "version": 3
   },
   "file_extension": ".py",
   "mimetype": "text/x-python",
   "name": "python",
   "nbconvert_exporter": "python",
   "pygments_lexer": "ipython3",
   "version": "3.12.8"
  }
 },
 "nbformat": 4,
 "nbformat_minor": 2
}
